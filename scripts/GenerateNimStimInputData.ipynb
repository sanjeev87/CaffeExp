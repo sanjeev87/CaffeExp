{
 "cells": [
  {
   "cell_type": "code",
   "execution_count": 5,
   "metadata": {
    "collapsed": false
   },
   "outputs": [],
   "source": [
    "import os\n",
    "import random\n",
    "image_dir = \"../data/nimstim/PNG\"\n",
    "dest_dir = \"../data/nimstim/\"\n",
    "path_prefix = \"/raid/srao/caffe_orig_mod/data/nimstim/PNG/\"\n",
    "count = 0\n",
    "log_map = {}\n",
    "\n",
    "file_train = open(dest_dir+\"nimstim_train.txt\", \"w\")\n",
    "file_train_p = open(dest_dir+\"nimstim_train_p.txt\", \"w\")\n",
    "file_train_log = open(dest_dir+\"nimstim_train_log.txt\",\"w\")\n",
    "\n",
    "outercount = 0\n",
    "lst = []\n",
    "for img1 in os.listdir(image_dir):\n",
    "    if img1.lower().endswith(\".png\"):\n",
    "        img1_type = img1.lower().split('_')[1]\n",
    "        innercount = 0\n",
    "        outercount = outercount + 1\n",
    "        for img2 in os.listdir(image_dir):\n",
    "            if img2.lower().endswith(\".png\") and innercount >= outercount:\n",
    "                    img2_type = img2.lower().split('_')[1]\n",
    "                    similar = \"0\"\n",
    "                    if img1_type == img2_type:\n",
    "                        similar = \"1\"\n",
    "                    #file_train.write(path_prefix+img1 + \" \" + similar + \"\\n\")\n",
    "                    #file_train_p.write(path_prefix+img2 + \" \" + similar + \"\\n\")\n",
    "                    combined_str = path_prefix+img1 + \" \" + similar + \":\" + path_prefix+img2 + \" \" + similar + \"\\n\"\n",
    "                    lst.append(combined_str)\n",
    "                    types = img1_type + '-' + img2_type\n",
    "                    if img1_type > img2_type:\n",
    "                        types = img2_type + '-' + img1_type\n",
    "                    if types in log_map:\n",
    "                        log_map[types] = log_map[types] + 1\n",
    "                    else:\n",
    "                        log_map[types] = 1\n",
    "            innercount = innercount + 1\n",
    "        \n",
    "for k,v in log_map.iteritems():\n",
    "    file_train_log.write(k + \" {0}\".format(v))\n",
    "    file_train_log.write(\"\\n\")\n",
    "\n",
    "random.shuffle(lst,random.random)\n",
    "\n",
    "count = 0\n",
    "for s in lst:\n",
    "    s1 = s.split(\":\")[0] + \"\\n\"\n",
    "    s2 = s.split(\":\")[1]\n",
    "    '''\n",
    "    if count < 50:\n",
    "        print \"s:\",s\n",
    "        //print \"s1:\",s1\n",
    "        print \"s2:\",s2\n",
    "        count =  count + 1\n",
    "    '''\n",
    "    file_train.write(s1)\n",
    "    file_train_p.write(s2)\n",
    "\n",
    "    \n",
    "file_train.close()\n",
    "file_train_p.close()\n",
    "file_train_log.close()"
   ]
  },
  {
   "cell_type": "code",
   "execution_count": 12,
   "metadata": {
    "collapsed": false
   },
   "outputs": [
    {
     "name": "stdout",
     "output_type": "stream",
     "text": [
      "3\n",
      "hi\n"
     ]
    }
   ],
   "source": [
    "string = \"hi_bye_why\"\n",
    "print len(string.split(\"_\"))\n",
    "print string.split(\"_\")"
   ]
  },
  {
   "cell_type": "code",
   "execution_count": 10,
   "metadata": {
    "collapsed": false
   },
   "outputs": [
    {
     "name": "stdout",
     "output_type": "stream",
     "text": [
      "['Hi', 'Bye', 'Hello', 'Hi', 'Bye', 'Hello', 'Hi', 'Bye', 'Hello', 'Hi']\n",
      "['Hello', 'Hello', 'Hi', 'Hi', 'Bye', 'Hi', 'Hi', 'Bye', 'Bye', 'Hello']\n"
     ]
    }
   ],
   "source": [
    "import random\n",
    "lst = []\n",
    "\n",
    "for i in range(10):\n",
    "    s1 = \"Hi\"\n",
    "    s2 = \"Bye\"\n",
    "    s3 = \"Hello\"\n",
    "    if i % 3 == 0:\n",
    "        lst.append(s1)\n",
    "    if i % 3 == 1:\n",
    "        lst.append(s2)\n",
    "    if i % 3 == 2:\n",
    "        lst.append(s3)\n",
    "print lst\n",
    "random.shuffle(lst,random.random)\n",
    "print lst"
   ]
  }
 ],
 "metadata": {
  "kernelspec": {
   "display_name": "Python 2",
   "language": "python",
   "name": "python2"
  },
  "language_info": {
   "codemirror_mode": {
    "name": "ipython",
    "version": 2
   },
   "file_extension": ".py",
   "mimetype": "text/x-python",
   "name": "python",
   "nbconvert_exporter": "python",
   "pygments_lexer": "ipython2",
   "version": "2.7.9"
  }
 },
 "nbformat": 4,
 "nbformat_minor": 0
}
