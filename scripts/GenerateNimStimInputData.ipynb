{
 "cells": [
  {
   "cell_type": "code",
   "execution_count": 70,
   "metadata": {
    "collapsed": false
   },
   "outputs": [],
   "source": [
    "import os\n",
    "image_dir = \"../data/nimstim/PNG\"\n",
    "dest_dir = \"../data/nimstim/\"\n",
    "path_prefix = \"/raid/srao/caffe_orig_mod/data/nimstim/PNG/\"\n",
    "count = 0\n",
    "log_map = {}\n",
    "\n",
    "file_train = open(dest_dir+\"nimstim_train.txt\", \"w\")\n",
    "file_train_p = open(dest_dir+\"nimstim_train_p.txt\", \"w\")\n",
    "file_train_log = open(dest_dir+\"nimstim_train_log.txt\",\"w\")\n",
    "\n",
    "for img1 in os.listdir(image_dir):\n",
    "    if img1.lower().endswith(\".png\"):\n",
    "        img1_type = img1.lower().split('_')[1]\n",
    "        for img2 in os.listdir(image_dir):\n",
    "            if img2.lower().endswith(\".png\"):\n",
    "                    img2_type = img2.lower().split('_')[1]\n",
    "                    similar = \"0\"\n",
    "                    if img1_type == img2_type:\n",
    "                        similar = \"1\"\n",
    "                    file_train.write(path_prefix+img1 + \" \" + similar + \"\\n\")\n",
    "                    file_train_p.write(path_prefix+img2 + \" \" + similar + \"\\n\")\n",
    "                    types = img1_type + '-' + img2_type\n",
    "                    if img1_type > img2_type:\n",
    "                        types = img2_type + '-' + img1_type\n",
    "                    if types in log_map:\n",
    "                        log_map[types] = log_map[types] + 1\n",
    "                    else:\n",
    "                        log_map[types] = 1\n",
    "        \n",
    "for k,v in log_map.iteritems():\n",
    "    file_train_log.write(k + \" {0}\".format(v))\n",
    "    file_train_log.write(\"\\n\")\n",
    "\n",
    "file_train.close()\n",
    "file_train_p.close()\n",
    "file_train_log.close()"
   ]
  },
  {
   "cell_type": "code",
   "execution_count": 62,
   "metadata": {
    "collapsed": false
   },
   "outputs": [
    {
     "name": "stdout",
     "output_type": "stream",
     "text": [
      "3\n",
      "['hi', 'bye', 'why']\n"
     ]
    }
   ],
   "source": [
    "string = \"hi_bye_why\"\n",
    "print len(string.split(\"_\"))\n",
    "print string.split(\"_\")"
   ]
  },
  {
   "cell_type": "code",
   "execution_count": 66,
   "metadata": {
    "collapsed": false
   },
   "outputs": [
    {
     "data": {
      "text/plain": [
       "False"
      ]
     },
     "execution_count": 66,
     "metadata": {},
     "output_type": "execute_result"
    }
   ],
   "source": [
    "s1 = \"gi\"\n",
    "s2 = \"giv\"\n",
    "s1 > s2"
   ]
  }
 ],
 "metadata": {
  "kernelspec": {
   "display_name": "Python 2",
   "language": "python",
   "name": "python2"
  },
  "language_info": {
   "codemirror_mode": {
    "name": "ipython",
    "version": 2
   },
   "file_extension": ".py",
   "mimetype": "text/x-python",
   "name": "python",
   "nbconvert_exporter": "python",
   "pygments_lexer": "ipython2",
   "version": "2.7.9"
  }
 },
 "nbformat": 4,
 "nbformat_minor": 0
}
