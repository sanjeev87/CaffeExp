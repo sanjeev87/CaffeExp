{
 "cells": [
  {
   "cell_type": "code",
   "execution_count": 2,
   "metadata": {
    "collapsed": false
   },
   "outputs": [],
   "source": [
    "import os\n",
    "import random\n",
    "image_dir = \"../data/nimstim/PNG\"\n",
    "dest_dir = \"../data/nimstim/\"\n",
    "path_prefix = \"/raid/srao/caffe_orig_mod/data/nimstim/PNG/\"\n",
    "count = 0\n",
    "\n",
    "'''\n",
    "file_train = open(dest_dir+\"nimstim_train_an_ha.txt\", \"w\")\n",
    "file_train_p = open(dest_dir+\"nimstim_train_an_ha_p.txt\", \"w\")\n",
    "file_train_log = open(dest_dir+\"nimstim_train_log_an_ha.txt\",\"w\")\n",
    "'''\n",
    "\n",
    "test_threshold = 0.05\n",
    "\n",
    "file_train = open(dest_dir+\"nimstim_train.txt\", \"w\")\n",
    "file_train_p = open(dest_dir+\"nimstim_train_p.txt\", \"w\")\n",
    "\n",
    "file_test = open(dest_dir+\"nimstim_test.txt\", \"w\")\n",
    "file_test_p = open(dest_dir+\"nimstim_test_p.txt\", \"w\")\n",
    "\n",
    "file_train_log = open(dest_dir+\"nimstim_train_log.txt\",\"w\")\n",
    "file_test_log = open(dest_dir+\"nimstim_test_log.txt\",\"w\")\n",
    "\n",
    "outercount = 0\n",
    "train_lst = []\n",
    "test_lst = []\n",
    "\n",
    "log_map_train = {}\n",
    "log_map_test = {}\n",
    "\n",
    "for img1 in os.listdir(image_dir):\n",
    "    img1_type = img1.lower().split('_')[1]\n",
    "    if img1.lower().endswith(\".png\") and img1_type != \"ne\" and img1_type != \"ca\" :\n",
    "        innercount = 0\n",
    "        outercount = outercount + 1\n",
    "        for img2 in os.listdir(image_dir):\n",
    "            img2_type = img2.lower().split('_')[1]\n",
    "            if img2.lower().endswith(\".png\") and img2_type != \"ne\" and img2_type != \"ca\" and innercount >= outercount:\n",
    "                    \n",
    "                    similar = \"0\"\n",
    "                    if img1_type == img2_type:\n",
    "                        similar = \"1\"\n",
    "                    \n",
    "                    combined_str = path_prefix+img1 + \" \" + similar + \":\" + path_prefix+img2 + \" \" + similar + \"\\n\"\n",
    "\n",
    "                    types = img1_type + '-' + img2_type\n",
    "                    if img1_type > img2_type:\n",
    "                        types = img2_type + '-' + img1_type\n",
    "                    \n",
    "                    r = random.random()\n",
    "                    if r < test_threshold:\n",
    "                        test_lst.append(combined_str)\n",
    "                        if types in log_map_test:\n",
    "                            log_map_test[types] = log_map_test[types] + 1\n",
    "                        else:\n",
    "                            log_map_test[types] = 1\n",
    "                    else:\n",
    "                        train_lst.append(combined_str)\n",
    "                        if types in log_map_train:\n",
    "                            log_map_train[types] = log_map_train[types] + 1\n",
    "                        else:\n",
    "                            log_map_train[types] = 1\n",
    "                    \n",
    "            innercount = innercount + 1\n",
    "\n",
    "            \n",
    "for k,v in log_map_train.iteritems():\n",
    "    file_train_log.write(k + \" {0}\".format(v))\n",
    "    file_train_log.write(\"\\n\")\n",
    "\n",
    "for k,v in log_map_test.iteritems():\n",
    "    file_test_log.write(k + \" {0}\".format(v))\n",
    "    file_test_log.write(\"\\n\")\n",
    "\n",
    "random.shuffle(train_lst,random.random)\n",
    "random.shuffle(test_lst,random.random)\n",
    "\n",
    "\n",
    "count = 0\n",
    "for s in train_lst:\n",
    "    s1 = s.split(\":\")[0] + \"\\n\"\n",
    "    s2 = s.split(\":\")[1]\n",
    "   \n",
    "    file_train.write(s1)\n",
    "    file_train_p.write(s2)\n",
    "    \n",
    "for s in test_lst:\n",
    "    s1 = s.split(\":\")[0] + \"\\n\"\n",
    "    s2 = s.split(\":\")[1]\n",
    "    \n",
    "    file_test.write(s1)\n",
    "    file_test_p.write(s2)\n",
    "\n",
    "    \n",
    "file_train.close()\n",
    "file_train_p.close()\n",
    "file_train_log.close()\n",
    "\n",
    "file_test.close()\n",
    "file_test_p.close()\n",
    "file_test_log.close()"
   ]
  },
  {
   "cell_type": "code",
   "execution_count": 12,
   "metadata": {
    "collapsed": false
   },
   "outputs": [
    {
     "name": "stdout",
     "output_type": "stream",
     "text": [
      "3\n",
      "hi\n"
     ]
    }
   ],
   "source": [
    "string = \"hi_bye_why\"\n",
    "print len(string.split(\"_\"))\n",
    "print string.split(\"_\")"
   ]
  },
  {
   "cell_type": "code",
   "execution_count": 10,
   "metadata": {
    "collapsed": false
   },
   "outputs": [
    {
     "name": "stdout",
     "output_type": "stream",
     "text": [
      "['Hi', 'Bye', 'Hello', 'Hi', 'Bye', 'Hello', 'Hi', 'Bye', 'Hello', 'Hi']\n",
      "['Hello', 'Hello', 'Hi', 'Hi', 'Bye', 'Hi', 'Hi', 'Bye', 'Bye', 'Hello']\n"
     ]
    }
   ],
   "source": [
    "import random\n",
    "lst = []\n",
    "\n",
    "for i in range(10):\n",
    "    s1 = \"Hi\"\n",
    "    s2 = \"Bye\"\n",
    "    s3 = \"Hello\"\n",
    "    if i % 3 == 0:\n",
    "        lst.append(s1)\n",
    "    if i % 3 == 1:\n",
    "        lst.append(s2)\n",
    "    if i % 3 == 2:\n",
    "        lst.append(s3)\n",
    "print lst\n",
    "random.shuffle(lst,random.random)\n",
    "print lst"
   ]
  }
 ],
 "metadata": {
  "kernelspec": {
   "display_name": "Python 2",
   "language": "python",
   "name": "python2"
  },
  "language_info": {
   "codemirror_mode": {
    "name": "ipython",
    "version": 2
   },
   "file_extension": ".py",
   "mimetype": "text/x-python",
   "name": "python",
   "nbconvert_exporter": "python",
   "pygments_lexer": "ipython2",
   "version": "2.7.9"
  }
 },
 "nbformat": 4,
 "nbformat_minor": 0
}
