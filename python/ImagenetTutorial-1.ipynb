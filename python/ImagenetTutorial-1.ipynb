{
 "metadata": {
  "name": "",
  "signature": "sha256:d2dcc18bb2d05d28faefa7f0aa7b8e8fd3eabf30fe053543ffa6bc8be5c53440"
 },
 "nbformat": 3,
 "nbformat_minor": 0,
 "worksheets": [
  {
   "cells": [
    {
     "cell_type": "code",
     "collapsed": false,
     "input": [
      "import numpy as np\n",
      "import matplotlib.pyplot as plt\n",
      "%matplotlib inline\n",
      "\n",
      "# Make sure that caffe is on the python path:\n",
      "caffe_root = '/raid/srao/caffe_0925/'  # this file is expected to be in {caffe_root}/examples\n",
      "import sys\n",
      "sys.path.insert(0, caffe_root + 'python')\n",
      "\n",
      "import caffe\n",
      "\n",
      "# Set the right path to your model definition file, pretrained model weights,\n",
      "# and the image you would like to classify.\n",
      "MODEL_FILE = '/raid/srao/caffe_0925/models/bvlc_reference_caffenet/deploy.prototxt'\n",
      "PRETRAINED = '/raid/srao/caffe_0925/models/bvlc_reference_caffenet/bvlc_reference_caffenet.caffemodel'\n",
      "#IMAGE_FILE = '/raid/srao/caffe_0925/examples/images/cat.jpg'\n",
      "\n",
      "IMAGE_FILE = '/raid/srao/HSQC/Methanol-d4_test.png'\n",
      "\n",
      "net = caffe.Classifier(MODEL_FILE, PRETRAINED,\n",
      "                       mean=np.load(caffe_root + 'python/caffe/imagenet/ilsvrc_2012_mean.npy'),\n",
      "                       channel_swap=(2,1,0),\n",
      "                       raw_scale=255,\n",
      "                       image_dims=(256, 256))\n",
      "\n",
      "net.set_phase_test()\n",
      "net.set_mode_gpu()\n",
      "\n",
      "input_image = caffe.io.load_image(IMAGE_FILE)\n",
      "#plt.imshow(input_image)\n",
      "\n",
      "prediction = net.predict([input_image])  # predict takes any number of images, and formats them for the Caffe net automatically\n",
      "print 'prediction shape:', prediction[0].shape\n",
      "plt.plot(prediction[0])\n",
      "print 'predicted class:', prediction[0].argmax()\n",
      "\n",
      "\n"
     ],
     "language": "python",
     "metadata": {},
     "outputs": [
      {
       "output_type": "stream",
       "stream": "stdout",
       "text": [
        "prediction shape: (1000,)\n",
        "predicted class: 281\n"
       ]
      },
      {
       "metadata": {},
       "output_type": "display_data",
       "png": "[encoded data removed]",
       "text": [
        "<matplotlib.figure.Figure at 0x91f4490>"
       ]
      }
     ],
     "prompt_number": 31
    },
    {
     "cell_type": "code",
     "collapsed": false,
     "input": [
      "\n",
      "\n",
      "prediction = net.predict([input_image], oversample=False)\n",
      "print 'prediction shape:', prediction[0].shape\n",
      "plt.plot(prediction[0])\n",
      "print 'predicted class:', prediction[0].argmax()\n",
      "\n",
      "\n",
      "%timeit net.predict([input_image])\n",
      "\n",
      "\n"
     ],
     "language": "python",
     "metadata": {},
     "outputs": [
      {
       "output_type": "stream",
       "stream": "stdout",
       "text": [
        "prediction shape: (1000,)\n",
        "predicted class:"
       ]
      },
      {
       "output_type": "stream",
       "stream": "stdout",
       "text": [
        " 281\n",
        "1 loops, best of 3: 4.07 s per loop"
       ]
      },
      {
       "output_type": "stream",
       "stream": "stdout",
       "text": [
        "\n"
       ]
      },
      {
       "metadata": {},
       "output_type": "display_data",
       "png": "[encoded data removed]",
       "text": [
        "<matplotlib.figure.Figure at 0x4131250>"
       ]
      }
     ],
     "prompt_number": 19
    },
    {
     "cell_type": "code",
     "collapsed": false,
     "input": [
      "# Resize the image to the standard (256, 256) and oversample net input sized crops.\n",
      "input_oversampled = caffe.io.oversample([caffe.io.resize_image(input_image, net.image_dims)], net.crop_dims)\n",
      "# 'data' is the input blob name in the model definition, so we preprocess for that input.\n",
      "caffe_input = np.asarray([net.preprocess('data', in_) for in_ in input_oversampled])\n",
      "# forward() takes keyword args for the input blobs with preprocessed input arrays.\n",
      "%timeit net.forward(data=caffe_input)\n"
     ],
     "language": "python",
     "metadata": {},
     "outputs": [
      {
       "output_type": "stream",
       "stream": "stdout",
       "text": [
        "1 loops, best of 3: 4.46 s per loop\n"
       ]
      }
     ],
     "prompt_number": 20
    },
    {
     "cell_type": "code",
     "collapsed": false,
     "input": [
      "net.image_dims\n",
      "input_image.shape\n",
      "net.crop_dims\n",
      "caffe_input.shape"
     ],
     "language": "python",
     "metadata": {},
     "outputs": [
      {
       "metadata": {},
       "output_type": "pyout",
       "prompt_number": 28,
       "text": [
        "(10, 3, 227, 227)"
       ]
      }
     ],
     "prompt_number": 28
    }
   ],
   "metadata": {}
  }
 ]
}